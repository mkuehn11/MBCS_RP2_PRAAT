{
 "cells": [
  {
   "cell_type": "code",
   "execution_count": null,
   "metadata": {},
   "outputs": [],
   "source": [
    "import pandas as pd\n",
    "import numpy as np\n",
    "import os"
   ]
  },
  {
   "cell_type": "code",
   "execution_count": null,
   "metadata": {},
   "outputs": [],
   "source": [
    "demographics = os.path.join('') #directory with all demographic information"
   ]
  },
  {
   "cell_type": "code",
   "execution_count": null,
   "metadata": {},
   "outputs": [],
   "source": [
    "df = pd.read_csv('') # file containing dem information such as gender, diagnoses, medication etc."
   ]
  },
  {
   "cell_type": "code",
   "execution_count": null,
   "metadata": {},
   "outputs": [],
   "source": [
    "#files containing the subject ids for controls and patients\n",
    "control = np.loadtxt(os.path.join(demographics, 'control_subs.txt'), dtype= str)\n",
    "sz = np.loadtxt(os.path.join(demographics, 'patient_subs.txt'), dtype= str)"
   ]
  },
  {
   "cell_type": "markdown",
   "metadata": {},
   "source": [
    "#### Get average duration of the interviews"
   ]
  },
  {
   "cell_type": "code",
   "execution_count": null,
   "metadata": {},
   "outputs": [],
   "source": [
    "import scipy.io.wavfile as wav\n",
    "import glob\n",
    "\n",
    "durs = []\n",
    "\n",
    "for file in sorted(glob.glob('/audio/split_channels/' + '*.wav')):\n",
    "    \n",
    "    if 'ch1' in file:\n",
    "        continue\n",
    "    else:\n",
    "        (source_rate, source_sig) = wav.read(file)\n",
    "        duration_seconds = len(source_sig) / float(source_rate)\n",
    "        durs.append(duration_seconds)"
   ]
  },
  {
   "cell_type": "code",
   "execution_count": null,
   "metadata": {},
   "outputs": [],
   "source": [
    "print(' min dur: ', min(durs) / 60,\n",
    "      '\\n max dur: ', max(durs)  / 60,\n",
    "      '\\n mean dur: ', np.array(durs).mean() / 60,\n",
    "      '\\n sd dur: ', np.array(durs).std() / 60)"
   ]
  },
  {
   "cell_type": "code",
   "execution_count": null,
   "metadata": {},
   "outputs": [],
   "source": [
    "import scipy.stats as stats"
   ]
  },
  {
   "cell_type": "markdown",
   "metadata": {},
   "source": [
    "#### Compare and print Age"
   ]
  },
  {
   "cell_type": "code",
   "execution_count": null,
   "metadata": {},
   "outputs": [],
   "source": [
    "#equal_var = False for Welch's t-test\n",
    "t_age, p_age = stats.ttest_ind(df.loc[control]['Age'], df.loc[sz]['Age'], equal_var= False, nan_policy = 'omit')\n",
    "print(t_age, p_age)"
   ]
  },
  {
   "cell_type": "markdown",
   "metadata": {},
   "source": [
    "#### Compare and print Gender"
   ]
  },
  {
   "cell_type": "code",
   "execution_count": null,
   "metadata": {},
   "outputs": [],
   "source": [
    "gender_cntrl = pd.read_csv(demographics + '/genders_controls.csv', index_col= ['Praatnummer'])\n",
    "gender_sz = pd.read_csv(demographics + '/genders_sz.csv', index_col= ['Praatnummer'])"
   ]
  },
  {
   "cell_type": "code",
   "execution_count": null,
   "metadata": {},
   "outputs": [],
   "source": [
    "from collections import Counter"
   ]
  },
  {
   "cell_type": "code",
   "execution_count": null,
   "metadata": {},
   "outputs": [],
   "source": [
    "cntrl_fm = Counter(gender_cntrl['Geslacht'].values)\n",
    "cntrl_fm = sorted(cntrl_fm.items(), key=lambda item: (-item[1], item[0]))\n",
    "\n",
    "sz_fm = Counter(gender_sz['Geslacht'].values)\n",
    "sz_fm = sorted(sz_fm.items(), key=lambda item: (-item[1], item[0]))"
   ]
  },
  {
   "cell_type": "code",
   "execution_count": null,
   "metadata": {},
   "outputs": [],
   "source": [
    "print(cntrl_fm, sz_fm)"
   ]
  },
  {
   "cell_type": "code",
   "execution_count": null,
   "metadata": {},
   "outputs": [],
   "source": [
    "gender_control_prct = [('m', 66), ('f', 34)]\n",
    "gender_sz_prct = [('m', 61), ('f', 39)]"
   ]
  },
  {
   "cell_type": "code",
   "execution_count": null,
   "metadata": {},
   "outputs": [],
   "source": [
    "#contingeny matrix for chi-square test\n",
    "contingency = [[60, 49],\n",
    "               [31,  31]]"
   ]
  },
  {
   "cell_type": "code",
   "execution_count": null,
   "metadata": {},
   "outputs": [],
   "source": [
    "chi2, chi2_p, dof, expected = stats.chi2_contingency(contingency, correction = False)\n",
    "print(chi2, chi2_p, dof, expected)"
   ]
  },
  {
   "cell_type": "markdown",
   "metadata": {},
   "source": [
    "#### Compare and print Years of Education (parental and personal)"
   ]
  },
  {
   "cell_type": "code",
   "execution_count": null,
   "metadata": {
    "scrolled": true
   },
   "outputs": [],
   "source": [
    "yoe_parents_cntrl = df.loc[control]['YOE_mean_ouders'].replace(999.0, np.nan)\n",
    "yoe_parents_sz = df.loc[sz]['YOE_mean_ouders'].replace(999.0, np.nan)\n",
    "\n",
    "U, p_yoe_parents = stats.mannwhitneyu(yoe_parents_cntrl, yoe_parents_sz)\n",
    "print(U, p_yoe_parents)"
   ]
  },
  {
   "cell_type": "code",
   "execution_count": null,
   "metadata": {},
   "outputs": [],
   "source": [
    "YOE_sz = df.loc[sz]['YOE_handmatig'].replace(999.0, np.nan)\n",
    "YOE_cntrl = df.loc[control]['YOE_handmatig'].replace(999.0, np.nan)"
   ]
  },
  {
   "cell_type": "code",
   "execution_count": null,
   "metadata": {
    "scrolled": false
   },
   "outputs": [],
   "source": [
    "U, p_yoe_self = stats.mannwhitneyu(YOE_cntrl, YOE_sz)\n",
    "print(U, p_yoe_self)"
   ]
  },
  {
   "cell_type": "markdown",
   "metadata": {},
   "source": [
    "#### Convert results into latex table"
   ]
  },
  {
   "cell_type": "code",
   "execution_count": null,
   "metadata": {},
   "outputs": [],
   "source": [
    "from pylatex import (\n",
    "        Document,\n",
    "        Section,\n",
    "        Tabular,\n",
    "        Table,\n",
    "        NoEscape,\n",
    "        Package,\n",
    "        Command,\n",
    "        MultiRow,\n",
    "        MultiColumn,\n",
    "    )"
   ]
  },
  {
   "cell_type": "code",
   "execution_count": null,
   "metadata": {},
   "outputs": [],
   "source": [
    "from pylatex.utils import italic, bold"
   ]
  },
  {
   "cell_type": "code",
   "execution_count": null,
   "metadata": {},
   "outputs": [],
   "source": [
    "doc = Document(\n",
    "    geometry_options=[\"margin=3.0cm\"], page_numbers=False\n",
    ")\n",
    "# Use siunitx to get 4 siginifcant digits and nice number formatting\n",
    "doc.packages.append(Package(\"multirow\"))\n",
    "doc.packages.append(Package(\"multicol\"))\n",
    "doc.packages.append(Package(\"siunitx\"))\n",
    "doc.preamble.append(\n",
    "    Command(\n",
    "        \"sisetup\",\n",
    "        NoEscape(\n",
    "            \"round-mode = figures, round-precision = 2, scientific-notation = false, separate-uncertainty = true\"\n",
    "        ),\n",
    "    )\n",
    ")"
   ]
  },
  {
   "cell_type": "code",
   "execution_count": null,
   "metadata": {},
   "outputs": [],
   "source": [
    "def formatNumbers(value, sci_notation = 'false'):\n",
    "    \n",
    "    new_value = r'\\num[scientific-notation=' + sci_notation + ']{' + str(value) + '}'\n",
    "    \n",
    "    return new_value"
   ]
  },
  {
   "cell_type": "code",
   "execution_count": null,
   "metadata": {},
   "outputs": [],
   "source": [
    "table_holder = Table(position=\"tbp\")\n",
    "# Create the tabular env\n",
    "table = Tabular(\"lcccccc\")\n",
    "table.add_row(\n",
    "    '', MultiColumn(6, align='c', data='')\n",
    ")\n",
    "table.add_hline()\n",
    "\n",
    "table.add_row('', 'Controls', '', 'Patients', '', 'Statistic', 'p')\n",
    "\n",
    "table.add_hline(4)\n",
    "\n",
    "table.add_row('', f\"(n = {len(control)})\", '', \n",
    "                  f\"(n = {len(sz)})\", '', '', '')\n",
    "\n",
    "table.add_hline()\n",
    "\n",
    "table.add_row('Gender (% Female)', \n",
    "              gender_control_prct[0][1], '',\n",
    "              gender_sz_prct[0][1], '', \n",
    "              NoEscape('$\\chi^2$') + '(' + NoEscape(formatNumbers(chi2)) + ')', \n",
    "              NoEscape(formatNumbers(chi2_p)))\n",
    "\n",
    "table.add_row('Age (mean)', \n",
    "              NoEscape(formatNumbers(df.loc[control]['Age'].mean())), '',\n",
    "              NoEscape(formatNumbers(df.loc[sz]['Age'].mean())), '',\n",
    "              'T (' + NoEscape(formatNumbers(t_age)) + ')', NoEscape(formatNumbers(p_age)))\n",
    "              \n",
    "              \n",
    "table.add_row('Years of Education - parental (mean)', \n",
    "              NoEscape(formatNumbers(yoe_parents_cntrl.mean())), '', \n",
    "              NoEscape(formatNumbers(yoe_parents_sz.mean())), '', \n",
    "              'MWU', \n",
    "              NoEscape(formatNumbers(p_yoe_parents)))\n",
    "              \n",
    "table.add_row('Years of Education (mean)', \n",
    "              NoEscape(formatNumbers(df.loc[control]['YOE_handmatig'].mean())), '',\n",
    "              NoEscape(formatNumbers(YOE_sz.mean())), '', \n",
    "              'MWU',\n",
    "              NoEscape(formatNumbers(p_yoe_self)))\n",
    "\n",
    "table.add_hline()\n",
    "\n",
    "table_holder.append(table)\n",
    "table_holder.append(NoEscape(r\"\\flushright\"))  # Horizontally center on page\n",
    "\n",
    "table_holder.add_caption(NoEscape(' '))\n",
    "doc.append(table_holder)\n",
    "\n",
    "doc.generate_pdf('', clean_tex=False)"
   ]
  }
 ],
 "metadata": {
  "kernelspec": {
   "display_name": "Python 3",
   "language": "python",
   "name": "python3"
  },
  "language_info": {
   "codemirror_mode": {
    "name": "ipython",
    "version": 3
   },
   "file_extension": ".py",
   "mimetype": "text/x-python",
   "name": "python",
   "nbconvert_exporter": "python",
   "pygments_lexer": "ipython3",
   "version": "3.8.5"
  }
 },
 "nbformat": 4,
 "nbformat_minor": 4
}
