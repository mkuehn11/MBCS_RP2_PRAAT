{
 "cells": [
  {
   "cell_type": "code",
   "execution_count": null,
   "metadata": {},
   "outputs": [],
   "source": [
    "import numpy as np\n",
    "import pandas as pd\n",
    "import os\n",
    "import matplotlib.pyplot as plt\n",
    "import seaborn as sns"
   ]
  },
  {
   "cell_type": "code",
   "execution_count": null,
   "metadata": {},
   "outputs": [],
   "source": [
    "dem_data = pd.read_csv('') #file containing demographic information (including panss scores)\n",
    "patients = np.loadtxt('/patient_subs.txt', dtype= str) #subject ids for patient group"
   ]
  },
  {
   "cell_type": "code",
   "execution_count": null,
   "metadata": {},
   "outputs": [],
   "source": [
    "panss_cols = ['PANSS_datum','PANSS_P1','PANSS_P2','PANSS_P3','PANSS_P4',\n",
    "              'PANSS_P5','PANSS_P6','PANSS_P7','PANSS_N1','PANSS_N2','PANSS_N3',\n",
    "              'PANSS_N4','PANSS_N5','PANSS_N6','PANSS_N7','PANSS_G1','PANSS_G2',\n",
    "              'PANSS_G3','PANSS_G4','PANSS_G5','PANSS_G6','PANSS_G7','PANSS_G8',\n",
    "              'PANSS_G9','PANSS_G10','PANSS_G11','PANSS_G12','PANSS_G13','PANSS_G14',\n",
    "              'PANSS_G15','PANSS_G16','PANSS_remission','PANSS_totaal','PANSS_positive',\n",
    "              'PANSS_negative','PANSS_general','PANSS_Positive_factor','PANSS_negative_factor',\n",
    "              'PANSS_disorganized_factor','PANSS_excited_factor','PANSS_depressed_factor']"
   ]
  },
  {
   "cell_type": "code",
   "execution_count": null,
   "metadata": {},
   "outputs": [],
   "source": [
    "panss = dem_data[panss_cols].loc[patients] #select only panss scores"
   ]
  },
  {
   "cell_type": "code",
   "execution_count": null,
   "metadata": {},
   "outputs": [],
   "source": [
    "#filter for missing scores\n",
    "panss_filt = panss_correct_filt = panss.loc[(panss['PANSS_remission'] != 'geen PANSS') & (panss['PANSS_totaal'] < 1000)]"
   ]
  },
  {
   "cell_type": "code",
   "execution_count": null,
   "metadata": {},
   "outputs": [],
   "source": [
    "panss_neg = panss_filt[['PANSS_N1','PANSS_N2','PANSS_N3', 'PANSS_N4','PANSS_N5','PANSS_N6','PANSS_N7']]"
   ]
  },
  {
   "cell_type": "code",
   "execution_count": null,
   "metadata": {},
   "outputs": [],
   "source": [
    "#easier format for plotting\n",
    "panss_neg_melt = panss_neg.melt(var_name='symptom', value_name='score')\n",
    "panss_neg_melt['sub_id'] = np.concatenate([[panss_neg.index]] * 7).flatten()"
   ]
  },
  {
   "cell_type": "markdown",
   "metadata": {},
   "source": [
    "#### Plot histogram of PANSS score distribution"
   ]
  },
  {
   "cell_type": "code",
   "execution_count": null,
   "metadata": {
    "scrolled": false
   },
   "outputs": [],
   "source": [
    "sns.set_theme(style=\"white\", rc={\"axes.facecolor\": (0, 0, 0, 0)})\n",
    "bins = np.histogram_bin_edges(panss_neg[panss_neg.columns[0]], 6, range=(1,6))\n",
    "\n",
    "# Initialize the FacetGrid object\n",
    "pal = sns.cubehelix_palette(10, rot=-.25, light=0.5)\n",
    "g = sns.FacetGrid(panss_neg_melt, row=\"symptom\", hue=\"symptom\", aspect=15, height=1, palette=pal)\n",
    "\n",
    "# Draw the densities in a few steps\n",
    "g.map(sns.histplot, \"score\", clip_on = False, alpha = 1, linewidth = 1.5, stat = 'count', bins = 6, binrange = (1,6))\n",
    "g.map(sns.histplot, \"score\", clip_on = False, linewidth = 2, stat = 'count', bins= 6, binrange = (1,6), element = 'step')\n",
    "g.map(plt.axhline, y=0, lw=0.7, clip_on=False, c = 'grey')\n",
    "\n",
    "\n",
    "## Define and use a simple function to label the plot in axes coordinates\n",
    "def label(x, color, label):\n",
    "    ax = plt.gca()\n",
    "    ax.text(1, .2, label, fontweight=\"bold\", color=color,\n",
    "            ha=\"right\", va=\"bottom\", transform=ax.transAxes)\n",
    "    \n",
    "def bins_labels(bins, **kwargs):\n",
    "    bin_w = (max(bins) - min(bins)) / (len(bins) - 1)\n",
    "    plt.xticks(np.arange(min(bins)+bin_w/2, max(bins), bin_w), bins, **kwargs)\n",
    "    plt.xlim(bins[0], bins[-1])\n",
    "\n",
    "g.map(label, \"score\")\n",
    "\n",
    "# Set the subplots to overlap\n",
    "g.fig.subplots_adjust(hspace= 0)\n",
    "\n",
    "# Remove axes details that don't play well with overlap\n",
    "g.set_titles(\"\")\n",
    "\n",
    "g.set(xticks=[])\n",
    "g.despine(bottom=True, left=False)\n",
    "g.set_xlabels('PANSS Score', fontsize = 15)\n",
    "g.set(xticks=[1, 2, 3, 4, 5, 6], yticks=[20, 40])\n",
    "\n",
    "for i, ax in enumerate(g.axes.flat):\n",
    "    # This only works for the left ylabels\n",
    "    ax.yaxis.set_label_position(\"left\")\n",
    "    ax.yaxis.set_ticks_position('left')\n",
    "    ax.set_yticklabels([20, 40], fontsize = 13)\n",
    "    if i == 3:\n",
    "        ax.set_ylabel('Count', fontsize = 15)\n",
    "    \n",
    "    if i == 6:\n",
    "        ax.set_xticks([1.417, 2.250, 3.083, 3.917, 4.750, 5.583])\n",
    "        ax.set_xticklabels([1, 2, 3, 4, 5, 6], fontsize = 13)\n",
    "    \n",
    "g.fig.suptitle('Distribution of Negative Symptoms', fontsize = 20)"
   ]
  }
 ],
 "metadata": {
  "kernelspec": {
   "display_name": "Python 3",
   "language": "python",
   "name": "python3"
  },
  "language_info": {
   "codemirror_mode": {
    "name": "ipython",
    "version": 3
   },
   "file_extension": ".py",
   "mimetype": "text/x-python",
   "name": "python",
   "nbconvert_exporter": "python",
   "pygments_lexer": "ipython3",
   "version": "3.8.5"
  }
 },
 "nbformat": 4,
 "nbformat_minor": 4
}
